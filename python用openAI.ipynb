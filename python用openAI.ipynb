{
 "cells": [
  {
   "cell_type": "code",
   "execution_count": null,
   "id": "76783048",
   "metadata": {},
   "outputs": [],
   "source": [
    "# 这里输入API KEY\n",
    "API_KEY = \"\"\n",
    "OPENAI_BASE_URL='https://ggdl.haohaozhongzhuan.com/v1'"
   ]
  },
  {
   "cell_type": "code",
   "execution_count": null,
   "id": "fdf6433d",
   "metadata": {},
   "outputs": [],
   "source": [
    "def convert_pil_image_to_base64(image):\n",
    "    buffered = BytesIO()\n",
    "    image.save(buffered, format=\"PNG\")\n",
    "    img_str = base64.b64encode(buffered.getvalue()).decode(\"utf-8\")\n",
    "    return f\"data:image/png;base64,{img_str}\""
   ]
  },
  {
   "cell_type": "code",
   "execution_count": null,
   "id": "65adbfab",
   "metadata": {},
   "outputs": [],
   "source": [
    "from openai import OpenAI\n",
    "\n",
    "def chat(prompt, image1=None, image2=None, history=None,\n",
    "         api_key=None,\n",
    "         base_url=None):\n",
    "    \"\"\"\n",
    "    prompt: str\n",
    "    image: PIL.Image 或 None\n",
    "    history: list[dict] 或 None\n",
    "    api_key: str, OpenAI / vLLM 的 key\n",
    "    base_url: str, 形如 https://xxx.com/v1\n",
    "    \"\"\"\n",
    "    # 1. 构造 client\n",
    "    client = OpenAI(\n",
    "        api_key=API_KEY,\n",
    "        base_url=OPENAI_BASE_URL,\n",
    "    )\n",
    "\n",
    "    # 2. 构造当前消息\n",
    "    if image1 and image2:\n",
    "        current_msg = {\n",
    "            \"role\": \"user\",\n",
    "            \"content\": [\n",
    "                {\n",
    "                    \"type\": \"image_url\",\n",
    "                    \"image_url\": {\"url\": convert_pil_image_to_base64(image1)}\n",
    "                },\n",
    "                {\n",
    "                    \"type\": \"image_url\",\n",
    "                    \"image_url\": {\"url\": convert_pil_image_to_base64(image2)}\n",
    "                },\n",
    "                {\n",
    "                    \"type\": \"text\",\n",
    "                    \"text\": prompt\n",
    "                }\n",
    "            ]\n",
    "        }\n",
    "    else:\n",
    "        current_msg = {\n",
    "            \"role\": \"user\",\n",
    "            \"content\": [{\"type\": \"text\", \"text\": prompt}]\n",
    "        }\n",
    "\n",
    "    # 3. 拼历史\n",
    "    history = history if history else []\n",
    "    messages = history + [current_msg]\n",
    "\n",
    "    # 4. 请求\n",
    "    response = client.chat.completions.create(\n",
    "        model=\"gemini-2.5-flash-image-preview\",   # 按需修改\n",
    "        messages=messages,\n",
    "        temperature=0.0,\n",
    "        max_tokens=2048,\n",
    "    )\n",
    "\n",
    "    response_text = response.choices[0].message.content\n",
    "    messages.append({\"role\": \"assistant\", \"content\": response_text})\n",
    "    return response_text, messages"
   ]
  },
  {
   "cell_type": "code",
   "execution_count": null,
   "id": "9bdd6484",
   "metadata": {},
   "outputs": [],
   "source": [
    "HINT_TEXT = (\"\"\"\n",
    "把这张照片改成黑白图\n",
    "\"\"\")"
   ]
  },
  {
   "cell_type": "code",
   "execution_count": null,
   "id": "b47eebdc",
   "metadata": {},
   "outputs": [],
   "source": [
    "import os\n",
    "import json\n",
    "from PIL import Image\n",
    "from tqdm import tqdm\n",
    "import chardet\n",
    "import sys\n",
    "import base64\n",
    "from io import BytesIO\n",
    "\n",
    "# img_path=\"D:\\\\benchmark\\\\datasets--likaixin--ScreenSpot-Pro\\\\snapshots\\\\f362949f57216063e6fe4b6e61b3e12340a351a8\\\\images\\\\android_studio_mac\\\\screenshot_2024-11-05_16-01-19.png\"\n",
    "img_path = \"D:\\\\dev\\\\work\\\\python-script\\\\test.png\"\n",
    "image1 = Image.open(img_path).convert('RGB')\n",
    "image2 = Image.open(img_path).convert('RGB')\n",
    "history = []\n",
    "position_inference_prompt = HINT_TEXT.format(instruction=\"the trash bin icon\")\n",
    "hint_text, history = chat(position_inference_prompt, image1,image2, history)"
   ]
  },
  {
   "cell_type": "code",
   "execution_count": null,
   "id": "8506e0b1",
   "metadata": {},
   "outputs": [],
   "source": [
    "hint_text"
   ]
  },
  {
   "cell_type": "code",
   "execution_count": null,
   "id": "8f574b2e",
   "metadata": {},
   "outputs": [],
   "source": []
  }
 ],
 "metadata": {
  "kernelspec": {
   "display_name": ".venv",
   "language": "python",
   "name": "python3"
  },
  "language_info": {
   "codemirror_mode": {
    "name": "ipython",
    "version": 3
   },
   "file_extension": ".py",
   "mimetype": "text/x-python",
   "name": "python",
   "nbconvert_exporter": "python",
   "pygments_lexer": "ipython3",
   "version": "3.13.5"
  }
 },
 "nbformat": 4,
 "nbformat_minor": 5
}
